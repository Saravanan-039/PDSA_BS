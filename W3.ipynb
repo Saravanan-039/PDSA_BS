{
  "nbformat": 4,
  "nbformat_minor": 0,
  "metadata": {
    "colab": {
      "provenance": [],
      "authorship_tag": "ABX9TyO662xuRGUFGCc3NAbmtNgs"
    },
    "kernelspec": {
      "name": "python3",
      "display_name": "Python 3"
    },
    "language_info": {
      "name": "python"
    }
  },
  "cells": [
    {
      "cell_type": "code",
      "execution_count": null,
      "metadata": {
        "id": "vc1FkFI4Dc30"
      },
      "outputs": [],
      "source": [
        "#DishPrepareOrder\n",
        "def DishPrepareOrder(order_list):\n",
        "\n",
        "  menu=[1001,1002,1003,1004,1005,1006,1007,1008,1009]\n",
        "\n",
        "  dic={}\n",
        "  for i in menu:\n",
        "    dic[i]=order_list.count(i)\n",
        "\n",
        "  return SortDishes(menu,dic)\n",
        "\n",
        "def SortDishes(L,d):\n",
        "  n = len(L)\n",
        "  if n < 1:\n",
        "      return(L)\n",
        "  for i in range(n):\n",
        "      j = i\n",
        "      while(j > 0 and d[L[j]] > d[L[j-1]]):\n",
        "        (L[j],L[j-1]) = (L[j-1],L[j])\n",
        "        j = j-1\n",
        "#to remove dishes that have 0 orders\n",
        "  for i in d:\n",
        "    if d[i]==0:\n",
        "      L.remove(i)\n",
        "\n",
        "  return L\n",
        "\n",
        "\n",
        "\n",
        "nums = eval(input())\n",
        "print(DishPrepareOrder(nums))"
      ]
    },
    {
      "cell_type": "code",
      "source": [
        "#ExpressionEvaluation\n",
        "def eval(o,a,b) :\n",
        "\n",
        "  if o == '+' :\n",
        "\n",
        "    return str(float(a)+float(b))\n",
        "  if o == '-' :\n",
        "    return str(float(a)-float(b))\n",
        "  if o == '*' :\n",
        "    return str(float(a)*float(b))\n",
        "  if o == '/' :\n",
        "    return str(float(a)/float(b))\n",
        "  if o == '**' :\n",
        "    return str(float(a)**float(b))\n",
        "\n",
        "def EvaluateExpression(exp) :\n",
        "  op = ['+','-','*','/','**']\n",
        "  stack = list()\n",
        "  exp = exp + ' '\n",
        "  i = 0\n",
        "  while( i < len(exp)) :\n",
        "    if exp[i] == ' ' :\n",
        "      pass\n",
        "    else :\n",
        "      j = i\n",
        "      while(exp[j] != ' ') :\n",
        "        j += 1\n",
        "      if exp[i:j] in op :\n",
        "        b = stack.pop(0)\n",
        "        a = stack.pop(0)\n",
        "        c = eval(exp[i:j],a,b)\n",
        "        stack.insert(0,c)\n",
        "        i = j+1\n",
        "      else:\n",
        "        stack.insert(0,exp[i:j])\n",
        "        i = j+1\n",
        "  return stack[0]\n",
        "print(float(EvaluateExpression(input())))"
      ],
      "metadata": {
        "id": "HlhDLXyTDf6M"
      },
      "execution_count": null,
      "outputs": []
    },
    {
      "cell_type": "code",
      "source": [
        "#ReverseRoot\n",
        "def reverse(root):\n",
        "\n",
        "    if root.value==None or root.next==None:\n",
        "\n",
        "        return root\n",
        "    newroot=reverse(root.next)\n",
        "    root.next.next=root\n",
        "    root.next=None\n",
        "\n",
        "    return newroot"
      ],
      "metadata": {
        "id": "DtbQ8FRsDlCX"
      },
      "execution_count": null,
      "outputs": []
    }
  ]
}