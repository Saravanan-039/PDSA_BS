{
  "metadata": {
    "kernelspec": {
      "name": "python",
      "display_name": "Python (Pyodide)",
      "language": "python"
    },
    "language_info": {
      "codemirror_mode": {
        "name": "python",
        "version": 3
      },
      "file_extension": ".py",
      "mimetype": "text/x-python",
      "name": "python",
      "nbconvert_exporter": "python",
      "pygments_lexer": "ipython3",
      "version": "3.8"
    }
  },
  "nbformat_minor": 4,
  "nbformat": 4,
  "cells": [
    {
      "cell_type": "code",
      "source": "#MinDifference\ndef find_Min_Difference(L, P):\n  L.sort()\n  min_diff=float(\"inf\")\n  for i in range(len(L) - P + 1):\n    diff = L[i + P - 1] - L[i]\n    min_diff = min(min_diff, diff)\n  return min_diff\nL=eval(input().strip())\nP=int(input())\nprint(find_Min_Difference(L,P))",
      "metadata": {
        "trusted": true
      },
      "outputs": [],
      "execution_count": null
    },
    {
      "cell_type": "code",
      "source": "#Goldbach\ndef Goldbach(n):\n    J=[]\n    P=[]\n    for d in range(1,n+1):\n        f=[]\n        for i in range(1,d+1):\n            if d%i==0:\n                f.append(i)\n        if f==[1,d]:\n            P.append(d)\n    for z in P:\n        for j in P:\n            if z+j==n:\n                m=(z,j)\n                if (j,z) not in J:\n                    J.append(m)\n    return J\nn=int(input())\nprint(sorted(Goldbach(n)))",
      "metadata": {
        "trusted": true
      },
      "outputs": [],
      "execution_count": null
    },
    {
      "cell_type": "code",
      "source": "#OddOne\ndef odd_one(L):\n    n=0\n    f=0\n    s=0\n    b=0\n    for i in L:\n        if type(i)==int:\n            n=n+1\n        if type(i)==float:\n            f=f+1\n        if type(i)==str:\n            s=s+1\n        if type(i)==bool:\n            b=b+1\n    if n==1:\n        return \"int\"\n    if f==1:\n        return \"float\"\n    if s==1:\n        return \"str\"\n    if b==1:\n        return \"bool\"\n        \nprint(odd_one(eval(input().strip())))",
      "metadata": {
        "trusted": true
      },
      "outputs": [],
      "execution_count": null
    }
  ]
}