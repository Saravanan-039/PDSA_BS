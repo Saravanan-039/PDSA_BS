{
  "nbformat": 4,
  "nbformat_minor": 0,
  "metadata": {
    "colab": {
      "provenance": [],
      "authorship_tag": "ABX9TyN2JfBSVsohtMBXUxG/m/YQ"
    },
    "kernelspec": {
      "name": "python3",
      "display_name": "Python 3"
    },
    "language_info": {
      "name": "python"
    }
  },
  "cells": [
    {
      "cell_type": "code",
      "execution_count": null,
      "metadata": {
        "id": "_R2i_hvVRbKT"
      },
      "outputs": [],
      "source": [
        "#MergeList\n",
        "def mergeKLists(LL):\n",
        "    l1=[]\n",
        "    for i in range(len(LL)):\n",
        "        for j in range (len(LL[i])):\n",
        "            l1.append(LL[i][j])\n",
        "    l1.sort()\n",
        "    return l1\n",
        "\n",
        "k = int(input())\n",
        "LL=[]\n",
        "for i in range(k):\n",
        "    subL = [int(item) for item in input().split(\" \")]\n",
        "    LL.append(subL)\n",
        "print(*mergeKLists(LL))"
      ]
    },
    {
      "cell_type": "code",
      "source": [
        "class Tree:\n",
        "  #constructor\n",
        "  def __init__(self, initval=None):\n",
        "    self.value = initval\n",
        "    if self.value:\n",
        "      self.left = Tree()\n",
        "      self.right = Tree()\n",
        "    else:\n",
        "      self.left = self.right = None\n",
        "    return\n",
        "\n",
        "  #Only empty node has value None\n",
        "  def isempty(self):\n",
        "    return(self.value == None)\n",
        "\n",
        "  #Leaf nodes have both children empty\n",
        "  def isleaf(self):\n",
        "    return(self.value != None and self.left.isempty() and self.right.isempty())\n",
        "\n",
        "#insert element to BST\n",
        "def insertToBST(root, x):\n",
        "  # Tree should have atleast one element.\n",
        "  temp = root\n",
        "  while (not temp.isempty()):\n",
        "    if (x < temp.value):\n",
        "      temp = temp.left\n",
        "    else:\n",
        "      temp = temp.right\n",
        "\n",
        "  temp.value = x\n",
        "  temp.left = Tree()\n",
        "  temp.right = Tree()\n",
        "def maxLessThan(root, K):\n",
        "  max = root.value\n",
        "  temp = root\n",
        "  while (not temp.isempty()):\n",
        "    if (temp.value and K<temp.value):\n",
        "      temp = temp.left\n",
        "    elif (temp.value and K>=temp.value):\n",
        "      max = temp.value\n",
        "      temp = temp.right\n",
        "  if (K >= max):\n",
        "    return max\n",
        "  else:\n",
        "    return None\n",
        "L = [int(item) for item in input().split(\" \")]\n",
        "x = int(input())\n",
        "root = Tree(L[0])\n",
        "for item in L[1:]:\n",
        "  insertToBST(root, item)\n",
        "\n",
        "print(maxLessThan(root, x))"
      ],
      "metadata": {
        "id": "mJWCR6uRRnRK"
      },
      "execution_count": null,
      "outputs": []
    },
    {
      "cell_type": "code",
      "source": [
        "def heapify(A, n, i):\n",
        "    largest = i\n",
        "    l = 2 * i + 1\n",
        "    r = 2 * i + 2\n",
        "    if l < n and A[largest] < A[l]:\n",
        "        largest = l\n",
        "    if r < n and A[largest] < A[r]:\n",
        "        largest = r\n",
        "    if largest != i:\n",
        "        A[i], A[largest] = A[largest], A[i]\n",
        "        heapify(A, n, largest)\n",
        "\n",
        "def min_max(A):\n",
        "    n = len(A)\n",
        "    for i in range(n//2,-1,-1):\n",
        "        heapify(A,n,i)"
      ],
      "metadata": {
        "id": "cekuWNwXRvN3"
      },
      "execution_count": null,
      "outputs": []
    }
  ]
}