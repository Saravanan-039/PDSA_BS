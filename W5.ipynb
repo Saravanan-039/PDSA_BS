{
  "nbformat": 4,
  "nbformat_minor": 0,
  "metadata": {
    "colab": {
      "provenance": [],
      "authorship_tag": "ABX9TyNx1MvKHV1YQV8RcyeCcP/W",
      "include_colab_link": true
    },
    "kernelspec": {
      "name": "python3",
      "display_name": "Python 3"
    },
    "language_info": {
      "name": "python"
    }
  },
  "cells": [
    {
      "cell_type": "markdown",
      "metadata": {
        "id": "view-in-github",
        "colab_type": "text"
      },
      "source": [
        "<a href=\"https://colab.research.google.com/github/Saravanan-039/PDSA_BS/blob/master/W5.ipynb\" target=\"_parent\"><img src=\"https://colab.research.google.com/assets/colab-badge.svg\" alt=\"Open In Colab\"/></a>"
      ]
    },
    {
      "cell_type": "code",
      "execution_count": null,
      "metadata": {
        "id": "t2gLeolm1Pc7"
      },
      "outputs": [],
      "source": [
        "#mininum length\n",
        "def kruskal(WList):\n",
        "    (edges,component,TE)=([],{},[])\n",
        "    for u in WList.keys():\n",
        "        edges.extend([(d,u,v) for (v,d) in WList[u]])\n",
        "        component[u] = u\n",
        "    edges.sort()\n",
        "    for (d,u,v) in edges:\n",
        "        if component[u] != component[v]:\n",
        "            TE.append((u,v))\n",
        "            c = component[u]\n",
        "        for w in WList.keys():\n",
        "            if component[w] == c:\n",
        "                component[w] = component[v]\n",
        "    return(TE)\n",
        "\n",
        "def FiberLink(distance_map):\n",
        "    R = kruskal(distance_map)\n",
        "    S = 0\n",
        "    for e in R:\n",
        "        for ed in distance_map[e[0]]:\n",
        "            if ed[0]==e[1]:\n",
        "                S += ed[1]\n",
        "    return S\n",
        "\n",
        "size = int(input())\n",
        "edges = eval(input())\n",
        "WL = {}\n",
        "for i in range(size):\n",
        "    WL[i] = []\n",
        "for ed in edges:\n",
        "    WL[ed[0]].append((ed[1],ed[2]))\n",
        "    WL[ed[1]].append((ed[0],ed[2]))\n",
        "print(FiberLink(WL))"
      ]
    },
    {
      "cell_type": "code",
      "source": [
        "#mincostwalk\n",
        "def dijkstra(WList,s):\n",
        "    infinity = 1 + len(WList.keys())*max([d for u in WList.keys()for (v,d) in WList[u]])\n",
        "    (visited,distance,prev) = ({},{},{})\n",
        "    for v in WList.keys():\n",
        "        (visited[v],distance[v],prev[v]) = (False,infinity,None)\n",
        "    distance[s] = 0\n",
        "    for u in WList.keys():\n",
        "        nextd = min([distance[v] for v in WList.keys() if not visited[v]])\n",
        "        nextvlist = [v for v in WList.keys() if (not visited[v]) and distance[v] == nextd]\n",
        "        if nextvlist == []:\n",
        "            break\n",
        "        nextv = min(nextvlist)\n",
        "        visited[nextv] = True\n",
        "        for (v,d) in WList[nextv]:\n",
        "            if not visited[v]:\n",
        "                if distance[v] > distance[nextv]+d:\n",
        "                    distance[v] = distance[nextv]+d\n",
        "                    prev[v] = nextv\n",
        "    return(distance,prev)\n",
        "\n",
        "\n",
        "def min_cost_walk(WList,S, D, V):\n",
        "    distance1,path1 = dijkstra(WList, S)\n",
        "    distance2,path2 = dijkstra(WList, V)\n",
        "    tot_dist = distance1[V] + distance2[D]\n",
        "    Route_S_V = []\n",
        "    Route_V_D = []\n",
        "\t# shortest route for S to V\n",
        "    if distance1[V] != 0:\n",
        "        dest = V\n",
        "        while dest != S:\n",
        "            Route_S_V = [dest] + Route_S_V\n",
        "            for i,j in path1.items():\n",
        "                if dest == i:\n",
        "                    dest = j\n",
        "                    break\n",
        "        Route_S_V = [dest] + Route_S_V\n",
        "  \t# shortest route for V to D\n",
        "    if distance2[D] != 0:\n",
        "        dest = D\n",
        "        while dest != V:\n",
        "            Route_V_D = [dest] + Route_V_D\n",
        "            for i,j in path2.items():\n",
        "                if dest == i:\n",
        "                    dest = j\n",
        "                    break\n",
        "        Route_V_D = [dest] + Route_V_D\n",
        "    Route_S_D = Route_S_V[:-1]+ Route_V_D\n",
        "    return (tot_dist,Route_S_D)\n",
        "\n",
        "size = int(input())\n",
        "edges = eval(input())\n",
        "S= int(input())\n",
        "D=int(input())\n",
        "V=int(input())\n",
        "WL = {}\n",
        "for i in range(size):\n",
        "    WL[i] = []\n",
        "for ed in edges: #for create list for undirected graph\n",
        "    WL[ed[0]].append((ed[1],ed[2]))\n",
        "    WL[ed[1]].append((ed[0],ed[2]))\n",
        "print(min_cost_walk(WL,S, D, V))"
      ],
      "metadata": {
        "id": "PLyTLSt31oA-"
      },
      "execution_count": null,
      "outputs": []
    },
    {
      "cell_type": "code",
      "source": [
        "#Negativeweightcycle\n",
        "def IsNegativeWeightCyclePresent(WList):\n",
        "    s = 0\n",
        "    infinity = 1 + len(WList.keys())*max([d for u in WList.keys() for (v,d) in WList[u]])\n",
        "    distance = {}\n",
        "    for v in WList.keys():\n",
        "        distance[v] = infinity\n",
        "    distance[s] = 0\n",
        "    for i in WList.keys():\n",
        "        for u in WList.keys():\n",
        "            for (v,d) in WList[u]:\n",
        "                distance[v] = min(distance[v], distance[u] + d)\n",
        "\n",
        "    for u in WList.keys():\n",
        "        for (v,d) in WList[u]:\n",
        "            if (distance[u] + d < distance[v]):\n",
        "                return True\n",
        "    return False\n",
        "\n",
        "size = int(input())\n",
        "edges = eval(input())\n",
        "WL = {}\n",
        "for i in range(size):\n",
        "    WL[i] = []\n",
        "for ed in edges:\n",
        "    WL[ed[0]].append((ed[1],ed[2]))\n",
        "\n",
        "print(IsNegativeWeightCyclePresent(WL))"
      ],
      "metadata": {
        "id": "81MqKiFn1vjB"
      },
      "execution_count": null,
      "outputs": []
    }
  ]
}