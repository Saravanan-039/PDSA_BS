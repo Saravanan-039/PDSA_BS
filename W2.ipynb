{
  "nbformat": 4,
  "nbformat_minor": 0,
  "metadata": {
    "colab": {
      "provenance": [],
      "authorship_tag": "ABX9TyM7a0mnPT/h6bTe9bnFl7/V",
      "include_colab_link": true
    },
    "kernelspec": {
      "name": "python3",
      "display_name": "Python 3"
    },
    "language_info": {
      "name": "python"
    }
  },
  "cells": [
    {
      "cell_type": "markdown",
      "metadata": {
        "id": "view-in-github",
        "colab_type": "text"
      },
      "source": [
        "<a href=\"https://colab.research.google.com/github/Saravanan-039/PDSA_BS/blob/master/W2.ipynb\" target=\"_parent\"><img src=\"https://colab.research.google.com/assets/colab-badge.svg\" alt=\"Open In Colab\"/></a>"
      ]
    },
    {
      "cell_type": "code",
      "execution_count": null,
      "metadata": {
        "id": "xu1ivUhvS0cs"
      },
      "outputs": [],
      "source": [
        "#CombinationSort\n",
        "def c(o):\n",
        "    v = int(o[1:])\n",
        "    return v\n",
        "def combinationSort(l):\n",
        "    d={}\n",
        "    l1 = []\n",
        "    l2 = []\n",
        "    for i in range(len(l)):\n",
        "        m = list(l[i])\n",
        "        if m[0] not in d:\n",
        "            d[m[0]] = [l[i]]\n",
        "        else:\n",
        "            d[m[0]] += [l[i]]\n",
        "    while d!={}:\n",
        "        a = min(d)\n",
        "        k = list(d[a])\n",
        "        j = sorted(k,reverse = True, key = c)\n",
        "        l1 += k\n",
        "        l2 += j\n",
        "        d.pop(a)\n",
        "    return(l1,l2)\n"
      ]
    },
    {
      "cell_type": "code",
      "source": [
        "#LargestNoUsingBinarySearch\n",
        "def findLargest(L):\n",
        "    (start,end) = (0, len(L))\n",
        "    (left, right) = (L[0], L[-1])\n",
        "\n",
        "    while(start<end):\n",
        "\n",
        "        mid = (start+end)//2\n",
        "        if(left>L[mid]):\n",
        "            end = mid\n",
        "        else:\n",
        "            start = mid+1\n",
        "    return L[start-1]\n"
      ],
      "metadata": {
        "id": "r44AE3xnS8hC"
      },
      "execution_count": null,
      "outputs": []
    },
    {
      "cell_type": "code",
      "source": [
        "#MergingSortedArrays\n",
        "def mergeInPlace(A,B):\n",
        "    m,n = len(A),len(B)\n",
        "    j = 0\n",
        "    for i in range(m):\n",
        "        for j in range(n):\n",
        "            if(A[i]>B[j]):\n",
        "                A.swap(i,B,j)\n",
        "    for i in range(n):\n",
        "        for j in range(i+1,n):\n",
        "            if(B[i]>B[j]):\n",
        "                B.swap(i,B,j)"
      ],
      "metadata": {
        "id": "u_Ig8uDGTRVe"
      },
      "execution_count": null,
      "outputs": []
    }
  ]
}